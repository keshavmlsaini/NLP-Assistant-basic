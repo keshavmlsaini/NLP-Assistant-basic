{
 "cells": [
  {
   "cell_type": "code",
   "execution_count": 1,
   "id": "43587348",
   "metadata": {},
   "outputs": [],
   "source": [
    "import spacy"
   ]
  },
  {
   "cell_type": "code",
   "execution_count": 2,
   "id": "cbf2d80f",
   "metadata": {},
   "outputs": [],
   "source": [
    "import subprocess"
   ]
  },
  {
   "cell_type": "code",
   "execution_count": 3,
   "id": "5429104d",
   "metadata": {},
   "outputs": [],
   "source": [
    "english =spacy.load(\"en_core_web_sm\")"
   ]
  },
  {
   "cell_type": "code",
   "execution_count": 12,
   "id": "a3d4ee3e",
   "metadata": {},
   "outputs": [
    {
     "name": "stdout",
     "output_type": "stream",
     "text": [
      "Enter your choice:hey keshav can you run date command for me\n"
     ]
    }
   ],
   "source": [
    "ch =input(\"Enter your choice:\")"
   ]
  },
  {
   "cell_type": "code",
   "execution_count": 13,
   "id": "65c12695",
   "metadata": {},
   "outputs": [],
   "source": [
    "doc = english(ch)"
   ]
  },
  {
   "cell_type": "code",
   "execution_count": 14,
   "id": "e186e387",
   "metadata": {},
   "outputs": [
    {
     "name": "stdout",
     "output_type": "stream",
     "text": [
      "hey hey INTJ\n",
      "keshav keshav NOUN\n",
      "can can AUX\n",
      "you you PRON\n",
      "run run VERB\n",
      "date date NOUN\n",
      "command command NOUN\n",
      "for for ADP\n",
      "me I PRON\n"
     ]
    }
   ],
   "source": [
    "for i in doc:\n",
    "    print(i.text,i.lemma_, i.pos_)"
   ]
  },
  {
   "cell_type": "code",
   "execution_count": 15,
   "id": "85a0410c",
   "metadata": {},
   "outputs": [],
   "source": [
    "myaction = []"
   ]
  },
  {
   "cell_type": "code",
   "execution_count": 16,
   "id": "9a8c8028",
   "metadata": {},
   "outputs": [],
   "source": [
    "wakeup = english(ch)"
   ]
  },
  {
   "cell_type": "code",
   "execution_count": 17,
   "id": "28b1764a",
   "metadata": {},
   "outputs": [
    {
     "name": "stdout",
     "output_type": "stream",
     "text": [
      "hey\n",
      "keshav\n",
      "can\n",
      "you\n",
      "run\n",
      "date\n",
      "command\n",
      "for\n",
      "me\n"
     ]
    }
   ],
   "source": [
    "for k in wakeup:\n",
    "    print(k.text)"
   ]
  },
  {
   "cell_type": "code",
   "execution_count": 18,
   "id": "8958b27d",
   "metadata": {},
   "outputs": [
    {
     "name": "stdout",
     "output_type": "stream",
     "text": [
      "run run\n"
     ]
    }
   ],
   "source": [
    "for i in doc:\n",
    "   # print(i.text,i.pos_)\n",
    "   if i.pos_ == \"VERB\":\n",
    "        print(i.text,i.lemma_)\n",
    "        myaction.append(i.lemma_)\n",
    "        \n",
    "y = True \n",
    "for i in doc:\n",
    "    if i.dep_ == \"neg\":\n",
    "        y = False\n"
   ]
  },
  {
   "cell_type": "code",
   "execution_count": 19,
   "id": "6e9b1a7d",
   "metadata": {},
   "outputs": [
    {
     "name": "stdout",
     "output_type": "stream",
     "text": [
      "03-07-2021 \n"
     ]
    }
   ],
   "source": [
    "if wakeup[0].text == \"hey\" and wakeup[1].text == \"keshav\":\n",
    "    if \"date\" in ch and \"run\" in myaction  and y:\n",
    "        print(subprocess.getoutput(\"date /t\"))\n",
    "    elif  \"firefox\" in ch and \"run\" in myaction and y :\n",
    "        print(subprocess.getoutput(\"FireFox\"))\n",
    "    elif  \"chrome\" in ch and \"run\" in myaction and y :\n",
    "        subprocess.getoutput(\"chrome\")\n",
    "    elif  \"player\" in ch and \"run\" in myaction and y:\n",
    "        subprocess.getoutput(\"wmplayer\")\n",
    "    else:\n",
    "        print(\"not supported\")\n",
    "else:\n",
    "    print(\"Does not able to find Wakeup word\")"
   ]
  },
  {
   "cell_type": "code",
   "execution_count": null,
   "id": "194a7268",
   "metadata": {},
   "outputs": [],
   "source": []
  },
  {
   "cell_type": "code",
   "execution_count": null,
   "id": "85e3e6e7",
   "metadata": {},
   "outputs": [],
   "source": []
  }
 ],
 "metadata": {
  "kernelspec": {
   "display_name": "Python 3",
   "language": "python",
   "name": "python3"
  },
  "language_info": {
   "codemirror_mode": {
    "name": "ipython",
    "version": 3
   },
   "file_extension": ".py",
   "mimetype": "text/x-python",
   "name": "python",
   "nbconvert_exporter": "python",
   "pygments_lexer": "ipython3",
   "version": "3.8.8"
  }
 },
 "nbformat": 4,
 "nbformat_minor": 5
}
